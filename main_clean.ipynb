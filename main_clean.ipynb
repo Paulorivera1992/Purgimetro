{
 "metadata": {
  "language_info": {
   "codemirror_mode": {
    "name": "ipython",
    "version": 3
   },
   "file_extension": ".py",
   "mimetype": "text/x-python",
   "name": "python",
   "nbconvert_exporter": "python",
   "pygments_lexer": "ipython3",
   "version": "3.8.10"
  },
  "orig_nbformat": 4,
  "kernelspec": {
   "name": "python3",
   "display_name": "Python 3.8.10 64-bit"
  },
  "interpreter": {
   "hash": "916dbcbb3f70747c44a77c7bcd40155683ae19c65e1c03b4aa3499c5328201f1"
  }
 },
 "nbformat": 4,
 "nbformat_minor": 2,
 "cells": [
  {
   "cell_type": "code",
   "execution_count": 35,
   "metadata": {},
   "outputs": [],
   "source": [
    "import numpy as np\n",
    "from scipy import interpolate\n",
    "%matplotlib inline"
   ]
  },
  {
   "cell_type": "code",
   "execution_count": 36,
   "metadata": {},
   "outputs": [],
   "source": [
    "def Q_loss(T):\n",
    "    dot_m = rho*A*u\n",
    "    dot_Q = dot_m*f_cp(T)*(T-Tb)/1000 # kW\n",
    "    return dot_m, dot_Q"
   ]
  },
  {
   "cell_type": "code",
   "execution_count": 37,
   "metadata": {},
   "outputs": [],
   "source": [
    "with open('cp_H2O.npy', 'rb') as f:\n",
    "    Temps = np.load(f)\n",
    "    cp    = np.load(f)\n",
    "\n",
    "f_cp   = interpolate.interp1d(Temps,cp)\n",
    "one_atm= 101325.0\n",
    "D      = 20e-2              # Diameter of the exit pipe, m\n",
    "A      = np.pi * D**2 / 4\n",
    "Tb     = 273.15 + 20 # estimate temperature inside boiler\n",
    "Pb     = 1.01 * one_atm  # pressure inside boiler\n",
    "Pout   = 1 * one_atm\n",
    "rho    = 1000.0 # \n",
    "# u      = 1 # m/s (typical) Change this for a model depending on the data\n",
    "u      = np.sqrt(2*(Pb-Pout)/rho)   # this velocity will depend on the conditions of the boiler T and P. Check this\n",
    "Nmax   = 1000\n",
    "\n",
    "# dt_open= 30  # time of opening\n",
    "# Nt     = 200\n",
    "# dt     = dt_open / Nt\n",
    "# t      = np.linspace(0,dt_open,Nt)\n",
    "# Tmax   = 0.5 * Tb # this will be given by the thermocouple measurements\n",
    "dot_m  = np.zeros(Nmax)\n",
    "dot_Q  = np.zeros(Nmax)\n",
    "Q      = 0.0\n",
    "m_tot  = 0.0\n",
    "\n",
    "lstop  = False\n",
    "dt     = 0.1 # time resolution\n",
    "t      = 0.0 # time of opening\n",
    "T      = 10  # in C. This should be the temperature recorded at each t\n",
    "\n",
    "for i in range(Nmax):\n",
    "    dot_m[i], dot_Q[i] = Q_loss(T)\n",
    "    # integrate to obtain total energy lost\n",
    "    Q       = Q + dot_Q[i]*dt       # kJ\n",
    "    m_tot   = m_tot + dot_m[i]*dt   # kg\n",
    "    t       = t + dt                # time of the opening, s\n",
    "    # condition to stop recording\n",
    "    # lstop -> some condition to exit the loop if signal already decayed\n",
    "    # lstop = True # here change the condition based on signal decay\n",
    "    if lstop:\n",
    "        break"
   ]
  }
 ]
}